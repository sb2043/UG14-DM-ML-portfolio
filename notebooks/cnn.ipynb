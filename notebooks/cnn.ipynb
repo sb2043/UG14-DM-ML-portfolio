{
 "cells": [
  {
   "cell_type": "code",
   "execution_count": 1,
   "metadata": {},
   "outputs": [],
   "source": [
    "import os\n",
    "import cv2\n",
    "import numpy as np\n",
    "from tensorflow.keras.applications import VGG16\n",
    "from tensorflow.keras.models import Model\n",
    "from scipy.spatial.distance import cosine\n"
   ]
  },
  {
   "cell_type": "code",
   "execution_count": null,
   "metadata": {},
   "outputs": [
    {
     "name": "stdout",
     "output_type": "stream",
     "text": [
      "Downloading data from https://storage.googleapis.com/tensorflow/keras-applications/vgg16/vgg16_weights_tf_dim_ordering_tf_kernels_notop.h5\n",
      "\u001b[1m58889256/58889256\u001b[0m \u001b[32m━━━━━━━━━━━━━━━━━━━━\u001b[0m\u001b[37m\u001b[0m \u001b[1m6s\u001b[0m 0us/step\n"
     ]
    }
   ],
   "source": [
    "# Define paths\n",
    "input_folder = \"../CT-scans\"  # Folder containing all image subfolders (Cyst, Normal, Stone, Tumor)\n",
    "output_base_folder = \"C:\\Users\\LEGION\\OneDrive\\Documents\\GitHub\\DM-ML-portfolio\\notebooks\\sequences\"  # Output folder for separated sequences\n",
    "os.makedirs(output_base_folder, exist_ok=True)\n",
    "\n",
    "# Load pretrained model for feature extraction\n",
    "base_model = VGG16(weights='imagenet', include_top=False, input_shape=(64, 64, 3))\n",
    "model = Model(inputs=base_model.input, outputs=base_model.layers[-1].output)\n"
   ]
  },
  {
   "cell_type": "code",
   "execution_count": 3,
   "metadata": {},
   "outputs": [],
   "source": [
    "# Function to extract features from an image\n",
    "def extract_features(image_path):\n",
    "    img = cv2.imread(image_path)\n",
    "    img = cv2.resize(img, (64, 64))  # Resize to model input size\n",
    "    img = img / 255.0  # Normalize\n",
    "    img = np.expand_dims(img, axis=0)  # Add batch dimension\n",
    "    features = model.predict(img)\n",
    "    return features.flatten()  # Flatten to 1D vector for comparison\n",
    "\n",
    "# Function to determine if two frames belong to different sequences\n",
    "def is_new_sequence(feature1, feature2, threshold=0.5):\n",
    "    # Use cosine similarity or any other distance metric\n",
    "    distance = cosine(feature1, feature2)\n",
    "    return distance > threshold\n"
   ]
  },
  {
   "cell_type": "code",
   "execution_count": 4,
   "metadata": {},
   "outputs": [
    {
     "ename": "FileNotFoundError",
     "evalue": "[WinError 3] The system cannot find the path specified: '../CT-scans'",
     "output_type": "error",
     "traceback": [
      "\u001b[1;31m---------------------------------------------------------------------------\u001b[0m",
      "\u001b[1;31mFileNotFoundError\u001b[0m                         Traceback (most recent call last)",
      "Cell \u001b[1;32mIn[4], line 8\u001b[0m\n\u001b[0;32m      5\u001b[0m os\u001b[38;5;241m.\u001b[39mmakedirs(sequence_folder, exist_ok\u001b[38;5;241m=\u001b[39m\u001b[38;5;28;01mTrue\u001b[39;00m)\n\u001b[0;32m      7\u001b[0m \u001b[38;5;66;03m# Process each image in the input folder\u001b[39;00m\n\u001b[1;32m----> 8\u001b[0m \u001b[38;5;28;01mfor\u001b[39;00m category \u001b[38;5;129;01min\u001b[39;00m \u001b[43mos\u001b[49m\u001b[38;5;241;43m.\u001b[39;49m\u001b[43mlistdir\u001b[49m\u001b[43m(\u001b[49m\u001b[43minput_folder\u001b[49m\u001b[43m)\u001b[49m:  \u001b[38;5;66;03m# Loop through each category (Cyst, Normal, Stone, Tumor)\u001b[39;00m\n\u001b[0;32m      9\u001b[0m     category_path \u001b[38;5;241m=\u001b[39m os\u001b[38;5;241m.\u001b[39mpath\u001b[38;5;241m.\u001b[39mjoin(input_folder, category)\n\u001b[0;32m     10\u001b[0m     \u001b[38;5;28;01mfor\u001b[39;00m filename \u001b[38;5;129;01min\u001b[39;00m \u001b[38;5;28msorted\u001b[39m(os\u001b[38;5;241m.\u001b[39mlistdir(category_path)):  \u001b[38;5;66;03m# Sort files to maintain order\u001b[39;00m\n",
      "\u001b[1;31mFileNotFoundError\u001b[0m: [WinError 3] The system cannot find the path specified: '../CT-scans'"
     ]
    }
   ],
   "source": [
    "# Initialize variables\n",
    "previous_features = None\n",
    "sequence_index = 0\n",
    "sequence_folder = os.path.join(output_base_folder, f\"sequence_{sequence_index}\")\n",
    "os.makedirs(sequence_folder, exist_ok=True)\n",
    "\n",
    "# Process each image in the input folder\n",
    "for category in os.listdir(input_folder):  # Loop through each category (Cyst, Normal, Stone, Tumor)\n",
    "    category_path = os.path.join(input_folder, category)\n",
    "    for filename in sorted(os.listdir(category_path)):  # Sort files to maintain order\n",
    "        file_path = os.path.join(category_path, filename)\n",
    "        \n",
    "        # Extract features for the current image\n",
    "        current_features = extract_features(file_path)\n",
    "        \n",
    "        # Check if it's a new sequence based on similarity\n",
    "        if previous_features is not None and is_new_sequence(previous_features, current_features):\n",
    "            # Start a new sequence folder\n",
    "            sequence_index += 1\n",
    "            sequence_folder = os.path.join(output_base_folder, f\"sequence_{sequence_index}\")\n",
    "            os.makedirs(sequence_folder, exist_ok=True)\n",
    "        \n",
    "        # Move or copy file to the current sequence folder\n",
    "        new_file_path = os.path.join(sequence_folder, filename)\n",
    "        cv2.imwrite(new_file_path, cv2.imread(file_path))  # Save the image in the new folder\n",
    "        \n",
    "        # Update previous features for the next iteration\n",
    "        previous_features = current_features\n",
    "\n",
    "print(\"Sequences have been separated and saved in the 'sequences' folder.\")\n"
   ]
  },
  {
   "cell_type": "code",
   "execution_count": null,
   "metadata": {},
   "outputs": [],
   "source": []
  }
 ],
 "metadata": {
  "kernelspec": {
   "display_name": "fyp_env",
   "language": "python",
   "name": "python3"
  },
  "language_info": {
   "codemirror_mode": {
    "name": "ipython",
    "version": 3
   },
   "file_extension": ".py",
   "mimetype": "text/x-python",
   "name": "python",
   "nbconvert_exporter": "python",
   "pygments_lexer": "ipython3",
   "version": "3.10.15"
  }
 },
 "nbformat": 4,
 "nbformat_minor": 2
}
