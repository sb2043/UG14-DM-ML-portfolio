{
 "cells": [
  {
   "cell_type": "code",
   "execution_count": 1,
   "metadata": {},
   "outputs": [
    {
     "name": "stdout",
     "output_type": "stream",
     "text": [
      "ZeroR Classifier Prediction: 1\n",
      "ZeroR Classifier Accuracy: 0.62\n"
     ]
    }
   ],
   "source": [
    "import pandas as pd\n",
    "\n",
    "# Load the dataset\n",
    "data = pd.read_csv('cleaned_CKD_dataset.csv')\n",
    "\n",
    "# Separate features and target variable\n",
    "X = data.drop(columns=['Class'])\n",
    "y = data['Class']\n",
    "\n",
    "# Implement ZeroR classifier by finding the majority class\n",
    "majority_class = y.value_counts().idxmax()\n",
    "\n",
    "# Predict the majority class for all instances in the dataset\n",
    "y_pred = [majority_class] * len(y)\n",
    "\n",
    "# Calculate accuracy as the proportion of the majority class\n",
    "accuracy = sum(y == majority_class) / len(y)\n",
    "\n",
    "print(f\"ZeroR Classifier Prediction: {majority_class}\")\n",
    "print(f\"ZeroR Classifier Accuracy: {accuracy:.2f}\")\n"
   ]
  }
 ],
 "metadata": {
  "kernelspec": {
   "display_name": "DS",
   "language": "python",
   "name": "python3"
  },
  "language_info": {
   "codemirror_mode": {
    "name": "ipython",
    "version": 3
   },
   "file_extension": ".py",
   "mimetype": "text/x-python",
   "name": "python",
   "nbconvert_exporter": "python",
   "pygments_lexer": "ipython3",
   "version": "3.11.9"
  }
 },
 "nbformat": 4,
 "nbformat_minor": 2
}
