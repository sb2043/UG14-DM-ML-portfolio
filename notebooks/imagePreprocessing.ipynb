{
 "cells": [
  {
   "cell_type": "code",
   "execution_count": 1,
   "metadata": {},
   "outputs": [
    {
     "name": "stdout",
     "output_type": "stream",
     "text": [
      "Defaulting to user installation because normal site-packages is not writeable\n",
      "Collecting opencv-python\n",
      "  Downloading opencv_python-4.10.0.84-cp37-abi3-win_amd64.whl.metadata (20 kB)\n",
      "Requirement already satisfied: pillow in c:\\programdata\\anaconda3\\lib\\site-packages (10.3.0)\n",
      "Requirement already satisfied: matplotlib in c:\\programdata\\anaconda3\\lib\\site-packages (3.8.4)\n",
      "Requirement already satisfied: numpy in c:\\programdata\\anaconda3\\lib\\site-packages (1.26.4)\n",
      "Requirement already satisfied: contourpy>=1.0.1 in c:\\programdata\\anaconda3\\lib\\site-packages (from matplotlib) (1.2.0)\n",
      "Requirement already satisfied: cycler>=0.10 in c:\\programdata\\anaconda3\\lib\\site-packages (from matplotlib) (0.11.0)\n",
      "Requirement already satisfied: fonttools>=4.22.0 in c:\\programdata\\anaconda3\\lib\\site-packages (from matplotlib) (4.51.0)\n",
      "Requirement already satisfied: kiwisolver>=1.3.1 in c:\\programdata\\anaconda3\\lib\\site-packages (from matplotlib) (1.4.4)\n",
      "Requirement already satisfied: packaging>=20.0 in c:\\programdata\\anaconda3\\lib\\site-packages (from matplotlib) (23.2)\n",
      "Requirement already satisfied: pyparsing>=2.3.1 in c:\\programdata\\anaconda3\\lib\\site-packages (from matplotlib) (3.0.9)\n",
      "Requirement already satisfied: python-dateutil>=2.7 in c:\\programdata\\anaconda3\\lib\\site-packages (from matplotlib) (2.9.0.post0)\n",
      "Requirement already satisfied: six>=1.5 in c:\\programdata\\anaconda3\\lib\\site-packages (from python-dateutil>=2.7->matplotlib) (1.16.0)\n",
      "Downloading opencv_python-4.10.0.84-cp37-abi3-win_amd64.whl (38.8 MB)\n",
      "   ---------------------------------------- 0.0/38.8 MB ? eta -:--:--\n",
      "   ---------------------------------------- 0.1/38.8 MB 2.0 MB/s eta 0:00:20\n",
      "    --------------------------------------- 0.5/38.8 MB 6.3 MB/s eta 0:00:07\n",
      "   - -------------------------------------- 1.0/38.8 MB 7.9 MB/s eta 0:00:05\n",
      "   - -------------------------------------- 1.6/38.8 MB 9.5 MB/s eta 0:00:04\n",
      "   -- ------------------------------------- 2.4/38.8 MB 10.8 MB/s eta 0:00:04\n",
      "   --- ------------------------------------ 3.0/38.8 MB 11.4 MB/s eta 0:00:04\n",
      "   --- ------------------------------------ 3.8/38.8 MB 12.1 MB/s eta 0:00:03\n",
      "   ---- ----------------------------------- 4.7/38.8 MB 13.1 MB/s eta 0:00:03\n",
      "   ----- ---------------------------------- 5.5/38.8 MB 13.4 MB/s eta 0:00:03\n",
      "   ------ --------------------------------- 6.4/38.8 MB 14.1 MB/s eta 0:00:03\n",
      "   ------- -------------------------------- 7.3/38.8 MB 15.1 MB/s eta 0:00:03\n",
      "   ------- -------------------------------- 7.3/38.8 MB 15.1 MB/s eta 0:00:03\n",
      "   -------- ------------------------------- 7.8/38.8 MB 13.2 MB/s eta 0:00:03\n",
      "   -------- ------------------------------- 7.9/38.8 MB 12.3 MB/s eta 0:00:03\n",
      "   -------- ------------------------------- 8.6/38.8 MB 12.4 MB/s eta 0:00:03\n",
      "   --------- ------------------------------ 9.4/38.8 MB 12.8 MB/s eta 0:00:03\n",
      "   ---------- ----------------------------- 10.1/38.8 MB 13.0 MB/s eta 0:00:03\n",
      "   ----------- ---------------------------- 11.1/38.8 MB 14.2 MB/s eta 0:00:02\n",
      "   ------------ --------------------------- 11.7/38.8 MB 14.2 MB/s eta 0:00:02\n",
      "   ------------- -------------------------- 12.7/38.8 MB 14.9 MB/s eta 0:00:02\n",
      "   ------------- -------------------------- 13.2/38.8 MB 14.5 MB/s eta 0:00:02\n",
      "   -------------- ------------------------- 14.4/38.8 MB 15.2 MB/s eta 0:00:02\n",
      "   --------------- ------------------------ 15.3/38.8 MB 15.2 MB/s eta 0:00:02\n",
      "   ---------------- ----------------------- 16.3/38.8 MB 15.2 MB/s eta 0:00:02\n",
      "   ----------------- ---------------------- 17.3/38.8 MB 15.2 MB/s eta 0:00:02\n",
      "   ------------------ --------------------- 18.3/38.8 MB 18.7 MB/s eta 0:00:02\n",
      "   -------------------- ------------------- 19.5/38.8 MB 19.8 MB/s eta 0:00:01\n",
      "   --------------------- ------------------ 20.6/38.8 MB 20.5 MB/s eta 0:00:01\n",
      "   ---------------------- ----------------- 21.6/38.8 MB 21.1 MB/s eta 0:00:01\n",
      "   ----------------------- ---------------- 22.6/38.8 MB 21.1 MB/s eta 0:00:01\n",
      "   ------------------------ --------------- 24.1/38.8 MB 23.4 MB/s eta 0:00:01\n",
      "   -------------------------- ------------- 25.3/38.8 MB 23.4 MB/s eta 0:00:01\n",
      "   --------------------------- ------------ 26.4/38.8 MB 23.4 MB/s eta 0:00:01\n",
      "   ---------------------------- ----------- 27.5/38.8 MB 25.2 MB/s eta 0:00:01\n",
      "   ----------------------------- ---------- 28.9/38.8 MB 26.2 MB/s eta 0:00:01\n",
      "   ------------------------------ --------- 30.0/38.8 MB 25.2 MB/s eta 0:00:01\n",
      "   -------------------------------- ------- 31.4/38.8 MB 27.3 MB/s eta 0:00:01\n",
      "   --------------------------------- ------ 32.7/38.8 MB 27.3 MB/s eta 0:00:01\n",
      "   ----------------------------------- ---- 34.1/38.8 MB 27.3 MB/s eta 0:00:01\n",
      "   ------------------------------------ --- 35.3/38.8 MB 27.3 MB/s eta 0:00:01\n",
      "   ------------------------------------- -- 36.5/38.8 MB 27.3 MB/s eta 0:00:01\n",
      "   ---------------------------------------  37.9/38.8 MB 28.5 MB/s eta 0:00:01\n",
      "   ---------------------------------------  38.8/38.8 MB 28.4 MB/s eta 0:00:01\n",
      "   ---------------------------------------  38.8/38.8 MB 28.4 MB/s eta 0:00:01\n",
      "   ---------------------------------------- 38.8/38.8 MB 24.2 MB/s eta 0:00:00\n",
      "Installing collected packages: opencv-python\n",
      "Successfully installed opencv-python-4.10.0.84\n",
      "Note: you may need to restart the kernel to use updated packages.\n"
     ]
    }
   ],
   "source": [
    "pip install opencv-python pillow matplotlib numpy\n"
   ]
  },
  {
   "cell_type": "code",
   "execution_count": null,
   "metadata": {},
   "outputs": [],
   "source": []
  }
 ],
 "metadata": {
  "kernelspec": {
   "display_name": "base",
   "language": "python",
   "name": "python3"
  },
  "language_info": {
   "codemirror_mode": {
    "name": "ipython",
    "version": 3
   },
   "file_extension": ".py",
   "mimetype": "text/x-python",
   "name": "python",
   "nbconvert_exporter": "python",
   "pygments_lexer": "ipython3",
   "version": "3.12.4"
  }
 },
 "nbformat": 4,
 "nbformat_minor": 2
}
